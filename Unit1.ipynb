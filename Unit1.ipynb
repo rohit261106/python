{
  "nbformat": 4,
  "nbformat_minor": 0,
  "metadata": {
    "colab": {
      "provenance": [],
      "toc_visible": true,
      "authorship_tag": "ABX9TyMU3RHAOfycKaxjgjoyiBgM",
      "include_colab_link": true
    },
    "kernelspec": {
      "name": "python3",
      "display_name": "Python 3"
    },
    "language_info": {
      "name": "python"
    }
  },
  "cells": [
    {
      "cell_type": "markdown",
      "metadata": {
        "id": "view-in-github",
        "colab_type": "text"
      },
      "source": [
        "<a href=\"https://colab.research.google.com/github/rohit261106/python/blob/main/Unit1.ipynb\" target=\"_parent\"><img src=\"https://colab.research.google.com/assets/colab-badge.svg\" alt=\"Open In Colab\"/></a>"
      ]
    },
    {
      "cell_type": "markdown",
      "source": [
        "Swaping Two variables"
      ],
      "metadata": {
        "id": "59nLVyP893j3"
      }
    },
    {
      "cell_type": "code",
      "source": [
        "thar_score =100\n",
        "hulk_score = 200\n",
        "print(thar_score,hulk_score)\n",
        "thar_score,hulk_score = hulk_score,thar_score\n",
        "print(thar_score,hulk_score)"
      ],
      "metadata": {
        "colab": {
          "base_uri": "https://localhost:8080/"
        },
        "id": "rFR_of2y-4I8",
        "outputId": "44c42bf3-32ea-4001-fc5a-527cecf285ec"
      },
      "execution_count": null,
      "outputs": [
        {
          "output_type": "stream",
          "name": "stdout",
          "text": [
            "100 200\n",
            "200 100\n"
          ]
        }
      ]
    },
    {
      "cell_type": "markdown",
      "source": [
        "hulk strenght level is recorded as a string input \"1000\" convert it into an integer and increase and increse it by 200"
      ],
      "metadata": {
        "id": "KcKCkpZ6AjlC"
      }
    },
    {
      "cell_type": "code",
      "source": [
        "hulk_strenght=\"1000\"\n",
        "hulk_strenght=int(hulk_strenght)\n",
        "hulk_strenght=hulk_strenght+200\n",
        "print(hulk_strenght)"
      ],
      "metadata": {
        "colab": {
          "base_uri": "https://localhost:8080/"
        },
        "id": "qAEATpJ2A12A",
        "outputId": "162370a9-c25e-40b0-ac8f-d46be793495a"
      },
      "execution_count": null,
      "outputs": [
        {
          "output_type": "stream",
          "name": "stdout",
          "text": [
            "1200\n"
          ]
        }
      ]
    },
    {
      "cell_type": "markdown",
      "source": [
        "thor hammer weight is 5000 (int) , but you need to calculate the gravitional force ,which requires it as a float"
      ],
      "metadata": {
        "id": "1lUxY33UA8yu"
      }
    },
    {
      "cell_type": "code",
      "source": [
        "hammer_weight=5000\n",
        "gravitational_force=9.81\n",
        "print(hammer_weight*gravitational_force)"
      ],
      "metadata": {
        "colab": {
          "base_uri": "https://localhost:8080/"
        },
        "id": "9-i5WjdlBPuX",
        "outputId": "6e6457cc-e230-48d4-a55a-77ebef15f3f4"
      },
      "execution_count": null,
      "outputs": [
        {
          "output_type": "stream",
          "name": "stdout",
          "text": [
            "49050.0\n"
          ]
        }
      ]
    },
    {
      "cell_type": "markdown",
      "source": [
        "loki gets input in as second (as string_) : 3600 . convert  it into an integer and then to hours .show final results as a float."
      ],
      "metadata": {
        "id": "sYYTdhmmBQRM"
      }
    },
    {
      "cell_type": "code",
      "source": [
        "second = 3600\n"
      ],
      "metadata": {
        "id": "KxVDZwC1B_zg"
      },
      "execution_count": null,
      "outputs": []
    },
    {
      "cell_type": "markdown",
      "source": [
        "iron man recorded 7 hits out of 10 shots (both integers).convert them into float and calculate accuracy percentage."
      ],
      "metadata": {
        "id": "AquLv9xpCMjT"
      }
    },
    {
      "cell_type": "code",
      "source": [
        "hits,total_shots=7,10\n",
        "accuracy=hits/total_shots*100\n",
        "print(accuracy)"
      ],
      "metadata": {
        "colab": {
          "base_uri": "https://localhost:8080/"
        },
        "id": "nS769B8SCddU",
        "outputId": "cbd38390-7bc7-4c32-b845-97c69b4dca02"
      },
      "execution_count": null,
      "outputs": [
        {
          "output_type": "stream",
          "name": "stdout",
          "text": [
            "70.0\n"
          ]
        }
      ]
    },
    {
      "cell_type": "markdown",
      "source": [
        "object referencing\n"
      ],
      "metadata": {
        "id": "iR1xdqH-Fc4p"
      }
    },
    {
      "cell_type": "markdown",
      "source": [
        "python variable hold references to object,not the actual object"
      ],
      "metadata": {
        "id": "UvrvpuvpFlog"
      }
    },
    {
      "cell_type": "code",
      "source": [
        "a =[1,2,3]\n",
        "b=a\n",
        "print(\"a original :\",a)\n",
        "b.append(4)\n",
        "print(\"a after appending 4:\",a)\n",
        "print(\"b:\",b)\n"
      ],
      "metadata": {
        "id": "w-EbFfVJFz8K",
        "colab": {
          "base_uri": "https://localhost:8080/"
        },
        "outputId": "98240cf6-b660-4eba-b9ba-e8b47c837b25"
      },
      "execution_count": 2,
      "outputs": [
        {
          "output_type": "stream",
          "name": "stdout",
          "text": [
            "a original : [1, 2, 3]\n",
            "a after appending 4: [1, 2, 3, 4]\n",
            "b: [1, 2, 3, 4]\n"
          ]
        }
      ]
    },
    {
      "cell_type": "markdown",
      "source": [
        "reassigning of variable does not affect other variable referencing same object explicity updated"
      ],
      "metadata": {
        "id": "0_2i_ixwHc33"
      }
    },
    {
      "cell_type": "code",
      "source": [
        "a=[1,2,3]\n",
        "b=a\n",
        "b=[4,5,6]\n",
        "print(\"a:\",a)\n",
        "print(\"b:\",b)"
      ],
      "metadata": {
        "colab": {
          "base_uri": "https://localhost:8080/"
        },
        "id": "j5Af-g_FHyyD",
        "outputId": "671e046f-2bf9-459e-c1e1-f9f5a3a05098"
      },
      "execution_count": 3,
      "outputs": [
        {
          "output_type": "stream",
          "name": "stdout",
          "text": [
            "a: [1, 2, 3]\n",
            "b: [4, 5, 6]\n"
          ]
        }
      ]
    },
    {
      "cell_type": "code",
      "source": [
        "shield = ['vibranium','round']\n",
        "copy_shield=shield\n",
        "print(\"original shield id :\",shield)\n",
        "print(\"wolverine changes the materials of shield\")\n",
        "copy_shield[0]='adamantium'\n",
        "print(\"new shield:\",shield)\n"
      ],
      "metadata": {
        "colab": {
          "base_uri": "https://localhost:8080/"
        },
        "id": "EGut9ozyIT2w",
        "outputId": "e92e31c1-55f9-4706-f526-2eb486fc4080"
      },
      "execution_count": 5,
      "outputs": [
        {
          "output_type": "stream",
          "name": "stdout",
          "text": [
            "original shield id : ['vibranium', 'round']\n",
            "wolverine changes the materials of shield\n",
            "new shield: ['adamantium', 'round']\n"
          ]
        }
      ]
    },
    {
      "cell_type": "markdown",
      "source": [
        "removing a vriable in python"
      ],
      "metadata": {
        "id": "NLQnVymiK_o4"
      }
    },
    {
      "cell_type": "code",
      "source": [
        "a=10\n",
        "del(a)\n",
        "print(a)"
      ],
      "metadata": {
        "colab": {
          "base_uri": "https://localhost:8080/",
          "height": 176
        },
        "id": "2o8GKLbALURh",
        "outputId": "18fb2d47-6ec5-4afd-cf7b-53523539230b"
      },
      "execution_count": 6,
      "outputs": [
        {
          "output_type": "error",
          "ename": "NameError",
          "evalue": "name 'a' is not defined",
          "traceback": [
            "\u001b[0;31m---------------------------------------------------------------------------\u001b[0m",
            "\u001b[0;31mNameError\u001b[0m                                 Traceback (most recent call last)",
            "\u001b[0;32m/tmp/ipython-input-1418604385.py\u001b[0m in \u001b[0;36m<cell line: 0>\u001b[0;34m()\u001b[0m\n\u001b[1;32m      1\u001b[0m \u001b[0ma\u001b[0m\u001b[0;34m=\u001b[0m\u001b[0;36m10\u001b[0m\u001b[0;34m\u001b[0m\u001b[0;34m\u001b[0m\u001b[0m\n\u001b[1;32m      2\u001b[0m \u001b[0;32mdel\u001b[0m\u001b[0;34m(\u001b[0m\u001b[0ma\u001b[0m\u001b[0;34m)\u001b[0m\u001b[0;34m\u001b[0m\u001b[0;34m\u001b[0m\u001b[0m\n\u001b[0;32m----> 3\u001b[0;31m \u001b[0mprint\u001b[0m\u001b[0;34m(\u001b[0m\u001b[0ma\u001b[0m\u001b[0;34m)\u001b[0m\u001b[0;34m\u001b[0m\u001b[0;34m\u001b[0m\u001b[0m\n\u001b[0m",
            "\u001b[0;31mNameError\u001b[0m: name 'a' is not defined"
          ]
        }
      ]
    },
    {
      "cell_type": "code",
      "source": [
        "x=['apple','banana', 'orange','mango','pineapple']\n",
        "del(x[0])\n",
        "print(\"updated list :\",x)\n",
        "del x[2:4]\n",
        "print(x)"
      ],
      "metadata": {
        "colab": {
          "base_uri": "https://localhost:8080/"
        },
        "id": "poKTLvElLd3J",
        "outputId": "76fa0bc7-c524-45f0-b5e6-10ec87d52bc9"
      },
      "execution_count": 3,
      "outputs": [
        {
          "output_type": "stream",
          "name": "stdout",
          "text": [
            "updated list : ['banana', 'orange', 'mango', 'pineapple']\n",
            "['banana', 'orange']\n"
          ]
        }
      ]
    },
    {
      "cell_type": "markdown",
      "source": [
        "dict"
      ],
      "metadata": {
        "id": "BCfp1cNQNq7A"
      }
    }
  ]
}